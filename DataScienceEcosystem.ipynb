{
  "metadata": {
    "kernelspec": {
      "name": "python",
      "display_name": "Python (Pyodide)",
      "language": "python"
    },
    "language_info": {
      "codemirror_mode": {
        "name": "python",
        "version": 3
      },
      "file_extension": ".py",
      "mimetype": "text/x-python",
      "name": "python",
      "nbconvert_exporter": "python",
      "pygments_lexer": "ipython3",
      "version": "3.8"
    }
  },
  "nbformat_minor": 5,
  "nbformat": 4,
  "cells": [
    {
      "id": "d977b49e-1427-48db-81ef-78017ca20683",
      "cell_type": "markdown",
      "source": "# Data Science Tools and Ecosystem",
      "metadata": {}
    },
    {
      "id": "3ee73d0c-49b6-48b8-ba7c-5e85d402b52e",
      "cell_type": "markdown",
      "source": "In this notebook, Data Science Tools and Ecosystem are summarized.",
      "metadata": {}
    },
    {
      "id": "ab420d18-7bce-4909-91db-f404f51bcf7e",
      "cell_type": "markdown",
      "source": "**Objectives:**",
      "metadata": {}
    },
    {
      "id": "a66d693e-fbe2-4da1-8f16-052342a72786",
      "cell_type": "markdown",
      "source": "* Common languages for Data Science\n* Common libraries for Data Science\n* Common tools for Data Science\n* Basic arithmetic expressions used in Python",
      "metadata": {}
    },
    {
      "id": "6255e0ea-3b59-48e8-83ec-2b3514f56c78",
      "cell_type": "markdown",
      "source": "## Author",
      "metadata": {}
    },
    {
      "id": "fa11a8b4-3f16-4b87-8cb1-abd1ac03d0ec",
      "cell_type": "markdown",
      "source": "Cristian",
      "metadata": {}
    },
    {
      "id": "438e229a-d895-4307-b83a-eed68553cded",
      "cell_type": "markdown",
      "source": "Some of the popular languages that Data Scientists use are: \n1. Python\n2. R\n3. SQL",
      "metadata": {}
    },
    {
      "id": "2833115f-abeb-4584-819c-091a02ef270a",
      "cell_type": "markdown",
      "source": "Some of the commonly used libraries used by Data Scientists include:\n1. numpy\n2. pandas\n3. matplotlib",
      "metadata": {}
    },
    {
      "id": "dc5c28fa-1b53-42a9-a83e-2d9bb75e7229",
      "cell_type": "markdown",
      "source": "|Data Science Tools|\n|---|\n|Visual Studio|\n|JupyterLab|\n|RStudio|",
      "metadata": {}
    },
    {
      "id": "8b26fc5e-28d1-4700-bcb0-80f26a1397af",
      "cell_type": "markdown",
      "source": "### Below are a few examples of evaluating arithmetic expressions in Python",
      "metadata": {}
    },
    {
      "id": "711e5536-de5a-4f54-828d-61444add01e6",
      "cell_type": "code",
      "source": "#This a simple arithmetic expression to mutiply then add integers\n(3*4)+5",
      "metadata": {
        "trusted": true
      },
      "outputs": [
        {
          "execution_count": 12,
          "output_type": "execute_result",
          "data": {
            "text/plain": "17"
          },
          "metadata": {}
        }
      ],
      "execution_count": 12
    },
    {
      "id": "4ccd13e3-915b-4d76-ae3c-92b7dfd06883",
      "cell_type": "code",
      "source": " #This will convert 200 minutes to hours by diving by 60\nminutes = 200\nhour = 60\nresult = minutes / hour\n\nprint(result)",
      "metadata": {
        "trusted": true
      },
      "outputs": [
        {
          "name": "stdout",
          "output_type": "stream",
          "text": "3.3333333333333335\n"
        }
      ],
      "execution_count": 14
    },
    {
      "id": "da4bd3e6-67c7-4ef4-a283-e242669482ea",
      "cell_type": "code",
      "source": "",
      "metadata": {
        "trusted": true
      },
      "outputs": [],
      "execution_count": null
    }
  ]
}